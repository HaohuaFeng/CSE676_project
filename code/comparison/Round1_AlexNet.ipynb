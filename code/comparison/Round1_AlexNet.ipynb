{
 "cells": [
  {
   "cell_type": "markdown",
   "metadata": {},
   "source": [
    "# Round 1"
   ]
  },
  {
   "cell_type": "markdown",
   "metadata": {},
   "source": [
    "## model: AlexNet_256 + Activation Function on FC (Sigmoid, Tanh, Relu) + Optimizer (Adam, SGD)\n",
    "## we select the winner from them."
   ]
  },
  {
   "cell_type": "code",
   "execution_count": null,
   "metadata": {},
   "outputs": [],
   "source": [
    "import sys\n",
    "sys.path.append(\"..\")  # Add the parent directory to the Python path\n",
    "\n",
    "import helper.utility as utility\n",
    "\n",
    "# Model list\n",
    "model_configs = [\"Alex_256_relu_\", \"Alex_256_sigmoid_\", \"Alex_256_tanh_\"]\n",
    "# optimizer list\n",
    "optimizer_configs = ['Adam', 'SGD']\n",
    "\n",
    "for model_name in model_configs:\n",
    "    for optimizer_name in optimizer_configs:\n",
    "\n",
    "        # saving path\n",
    "        model_name = model_name + optimizer_name\n",
    "        pth_save_path = './model_data/' + model_name + '/model.pth'\n",
    "        pth_manual_save_path = './model_data/' + \\\n",
    "            model_name + '/manual_save_model.pth'\n",
    "        record_save_path = './model_data/' + model_name\n",
    "\n",
    "        # draw graphs\n",
    "        data = utility.read_pickle_files(\n",
    "            record_save_path + '/loss_history.pkl')\n",
    "        utility.plot_record(x=range(1, len(data)+1), y=data, xlabel=\"epoch\", ylabel=\"loss\", title=\"Training Loss\",\n",
    "                            save_path=record_save_path+\"/loss_history.png\")\n",
    "\n",
    "        data = utility.read_pickle_files(\n",
    "            record_save_path + '/accuracy_history.pkl')\n",
    "        utility.plot_record(x=range(1, len(data)+1), y=data, xlabel=\"epoch\", ylabel=\"accuracy\", title=\"Training Accuracy\",\n",
    "                            save_path=record_save_path+\"/accuracy_history.png\")\n",
    "\n",
    "        data = utility.read_pickle_files(\n",
    "            record_save_path + '/val_loss_history.pkl')\n",
    "        utility.plot_record(x=range(run_after+1, run_after+len(data)+1), y=data, xlabel=\"epoch\", ylabel=\"validation loss\",\n",
    "                            title=\"Validation Loss\", save_path=record_save_path+\"/val_loss_history.png\")\n",
    "\n",
    "        data = utility.read_pickle_files(\n",
    "            record_save_path + '/val_accuracy_history.pkl')\n",
    "        utility.plot_record(x=range(run_after+1, run_after+len(data)+1), y=data, xlabel=\"epoch\", ylabel=\"validation accuracy\",\n",
    "                            title=\"Validation Accuracy\", save_path=record_save_path+\"/val_accuracy_history.png\")\n"
   ]
  },
  {
   "cell_type": "markdown",
   "metadata": {},
   "source": [
    "## model: AlexNet_4096 + Activation Function on FC (Tanh, Relu) + Optimizer (Adam, SGD)\n",
    "## we select the winner from them."
   ]
  },
  {
   "cell_type": "code",
   "execution_count": null,
   "metadata": {},
   "outputs": [],
   "source": [
    "import helper.utility as utility\n",
    "import sys\n",
    "sys.path.append(\"..\")  # Add the parent directory to the Python path\n",
    "\n",
    "# Model list\n",
    "model_configs = [\"Alex_4096_relu_\", \"Alex_4096_tanh_\"]\n",
    "# optimizer list\n",
    "optimizer_configs = ['Adam', 'SGD']\n",
    "\n",
    "for model_name in model_configs:\n",
    "    for optimizer_name in optimizer_configs:\n",
    "\n",
    "        # saving path\n",
    "        model_name = model_name + optimizer_name\n",
    "        pth_save_path = './model_data/' + model_name + '/model.pth'\n",
    "        pth_manual_save_path = './model_data/' + \\\n",
    "            model_name + '/manual_save_model.pth'\n",
    "        record_save_path = './model_data/' + model_name\n",
    "\n",
    "        # draw graphs\n",
    "        data = utility.read_pickle_files(\n",
    "            record_save_path + '/loss_history.pkl')\n",
    "        utility.plot_record(x=range(1, len(data)+1), y=data, xlabel=\"epoch\", ylabel=\"loss\", title=\"Training Loss\",\n",
    "                            save_path=record_save_path+\"/loss_history.png\")\n",
    "\n",
    "        data = utility.read_pickle_files(\n",
    "            record_save_path + '/accuracy_history.pkl')\n",
    "        utility.plot_record(x=range(1, len(data)+1), y=data, xlabel=\"epoch\", ylabel=\"accuracy\", title=\"Training Accuracy\",\n",
    "                            save_path=record_save_path+\"/accuracy_history.png\")\n",
    "\n",
    "        data = utility.read_pickle_files(\n",
    "            record_save_path + '/val_loss_history.pkl')\n",
    "        utility.plot_record(x=range(run_after+1, run_after+len(data)+1), y=data, xlabel=\"epoch\", ylabel=\"validation loss\",\n",
    "                            title=\"Validation Loss\", save_path=record_save_path+\"/val_loss_history.png\")\n",
    "\n",
    "        data = utility.read_pickle_files(\n",
    "            record_save_path + '/val_accuracy_history.pkl')\n",
    "        utility.plot_record(x=range(run_after+1, run_after+len(data)+1), y=data, xlabel=\"epoch\", ylabel=\"validation accuracy\",\n",
    "                            title=\"Validation Accuracy\", save_path=record_save_path+\"/val_accuracy_history.png\")\n"
   ]
  },
  {
   "cell_type": "markdown",
   "metadata": {},
   "source": [
    "## We compare AlexNet-4096 vs Alec-256, and select the winner. -> winner of Round 1"
   ]
  },
  {
   "cell_type": "code",
   "execution_count": null,
   "metadata": {},
   "outputs": [],
   "source": [
    "import helper.utility as utility\n",
    "import sys\n",
    "sys.path.append(\"..\")  # Add the parent directory to the Python path\n",
    "\n",
    "# Model list\n",
    "model_configs = [\"Alex_4096_relu_\", \"Alex_256_tanh_\"] # todo\n",
    "# optimizer list\n",
    "optimizer_configs = ['Adam']\n",
    "\n",
    "for model_name in model_configs:\n",
    "    for optimizer_name in optimizer_configs:\n",
    "\n",
    "        # saving path\n",
    "        model_name = model_name + optimizer_name\n",
    "        pth_save_path = './model_data/' + model_name + '/model.pth'\n",
    "        pth_manual_save_path = './model_data/' + \\\n",
    "            model_name + '/manual_save_model.pth'\n",
    "        record_save_path = './model_data/' + model_name\n",
    "\n",
    "        # draw graphs\n",
    "        data = utility.read_pickle_files(\n",
    "            record_save_path + '/loss_history.pkl')\n",
    "        utility.plot_record(x=range(1, len(data)+1), y=data, xlabel=\"epoch\", ylabel=\"loss\", title=\"Training Loss\",\n",
    "                            save_path=record_save_path+\"/loss_history.png\")\n",
    "\n",
    "        data = utility.read_pickle_files(\n",
    "            record_save_path + '/accuracy_history.pkl')\n",
    "        utility.plot_record(x=range(1, len(data)+1), y=data, xlabel=\"epoch\", ylabel=\"accuracy\", title=\"Training Accuracy\",\n",
    "                            save_path=record_save_path+\"/accuracy_history.png\")\n",
    "\n",
    "        data = utility.read_pickle_files(\n",
    "            record_save_path + '/val_loss_history.pkl')\n",
    "        utility.plot_record(x=range(run_after+1, run_after+len(data)+1), y=data, xlabel=\"epoch\", ylabel=\"validation loss\",\n",
    "                            title=\"Validation Loss\", save_path=record_save_path+\"/val_loss_history.png\")\n",
    "\n",
    "        data = utility.read_pickle_files(\n",
    "            record_save_path + '/val_accuracy_history.pkl')\n",
    "        utility.plot_record(x=range(run_after+1, run_after+len(data)+1), y=data, xlabel=\"epoch\", ylabel=\"validation accuracy\",\n",
    "                            title=\"Validation Accuracy\", save_path=record_save_path+\"/val_accuracy_history.png\")\n"
   ]
  }
 ],
 "metadata": {
  "kernelspec": {
   "display_name": "Python 3",
   "language": "python",
   "name": "python3"
  },
  "language_info": {
   "codemirror_mode": {
    "name": "ipython",
    "version": 3
   },
   "file_extension": ".py",
   "mimetype": "text/x-python",
   "name": "python",
   "nbconvert_exporter": "python",
   "pygments_lexer": "ipython3",
   "version": "3.11.2"
  }
 },
 "nbformat": 4,
 "nbformat_minor": 2
}
