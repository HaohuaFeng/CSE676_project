{
 "cells": [
  {
   "cell_type": "markdown",
   "id": "1099adc6448f5f46",
   "metadata": {
    "collapsed": false
   },
   "source": [
    "## !! The final result should be only a runnable .py file !!"
   ]
  },
  {
   "cell_type": "code",
   "execution_count": 1,
   "id": "aff6d85dd0096bd6",
   "metadata": {
    "collapsed": false,
    "ExecuteTime": {
     "end_time": "2023-10-29T13:15:13.028812700Z",
     "start_time": "2023-10-29T13:15:07.866529600Z"
    }
   },
   "outputs": [],
   "source": [
    "import torch\n",
    "import torch.nn as nn\n",
    "import torch.optim as optim\n",
    "from torchvision import datasets, transforms\n",
    "from torch.utils.data import DataLoader\n",
    "from tqdm import tqdm\n",
    "import pickle\n",
    "from torch.utils.data import random_split\n",
    "from models import VGG19 as m\n",
    "from training_early_stop import EarlyStop\n",
    "import utility\n",
    "import os"
   ]
  },
  {
   "cell_type": "markdown",
   "id": "718fed71c402d1dc",
   "metadata": {
    "collapsed": false
   },
   "source": [
    "# 0. Data Pre-processing"
   ]
  },
  {
   "cell_type": "code",
   "execution_count": 2,
   "id": "b8060e570dd48d1c",
   "metadata": {
    "collapsed": false,
    "ExecuteTime": {
     "end_time": "2023-10-29T13:15:14.770017100Z",
     "start_time": "2023-10-29T13:15:14.616311500Z"
    }
   },
   "outputs": [
    {
     "name": "stdout",
     "output_type": "stream",
     "text": [
      "45 25838\n"
     ]
    }
   ],
   "source": [
    "data_transforms = transforms.Compose([\n",
    "    transforms.Grayscale(num_output_channels=1),\n",
    "    transforms.Resize((224, 224)),\n",
    "    transforms.ToTensor(),\n",
    "    transforms.Normalize(mean=[0.5], std=[0.5])  # normalize\n",
    "])\n",
    "\n",
    "train_dataset = datasets.ImageFolder(\n",
    "    '../dataset/train', transform=data_transforms)\n",
    "# split training set to training set and validation set\n",
    "# a random seed to ensure reproducibility of results.\n",
    "torch.manual_seed(42)\n",
    "train_size = int(0.9 * len(train_dataset))\n",
    "val_size = len(train_dataset) - train_size\n",
    "train_dataset, val_dataset = random_split(train_dataset, [train_size, val_size])\n",
    "\n",
    "test_dataset = datasets.ImageFolder('../dataset/test', transform=data_transforms)\n",
    "\n",
    "\n",
    "train_loader = DataLoader(train_dataset, batch_size=64, shuffle=True, num_workers=16, pin_memory=True)\n",
    "val_loader = DataLoader(val_dataset, batch_size=64,shuffle=False, num_workers=16, pin_memory=True)\n",
    "test_loader = DataLoader(test_dataset, batch_size=32, shuffle=False, num_workers=16, pin_memory=False)\n",
    "\n",
    "print(len(val_loader), len(train_dataset))"
   ]
  },
  {
   "cell_type": "code",
   "execution_count": 3,
   "id": "6faa84704020905c",
   "metadata": {
    "collapsed": false,
    "ExecuteTime": {
     "end_time": "2023-10-29T13:15:17.131429600Z",
     "start_time": "2023-10-29T13:15:15.514855400Z"
    }
   },
   "outputs": [
    {
     "name": "stdout",
     "output_type": "stream",
     "text": [
      "using CUDA + cudnn\n"
     ]
    }
   ],
   "source": [
    "# select device\n",
    "device = utility.select_devices(use_cudnn_if_avaliable=True)"
   ]
  },
  {
   "cell_type": "markdown",
   "id": "65e424f66d1a2a74",
   "metadata": {
    "collapsed": false
   },
   "source": [
    "# 1. Model"
   ]
  },
  {
   "cell_type": "code",
   "execution_count": 4,
   "id": "e20234f5835cb7e4",
   "metadata": {
    "collapsed": false,
    "ExecuteTime": {
     "end_time": "2023-10-29T13:15:18.984362700Z",
     "start_time": "2023-10-29T13:15:18.974628800Z"
    }
   },
   "outputs": [],
   "source": [
    "# average loss / epoch\n",
    "loss_history_per_epoch = []\n",
    "# correct prediction / epoch\n",
    "correct_prediction_pre_epoch = []\n",
    "# accuracy / epoch\n",
    "accuracy_per_epoch = []\n",
    "# validation loss\n",
    "val_loss_per_epoch = []\n",
    "# validation accuracy\n",
    "val_accuracy_per_epoch = []"
   ]
  },
  {
   "cell_type": "code",
   "execution_count": 5,
   "id": "ebf6186fa8daf7b8",
   "metadata": {
    "collapsed": false,
    "ExecuteTime": {
     "end_time": "2023-10-29T13:15:21.786134600Z",
     "start_time": "2023-10-29T13:15:21.167427600Z"
    }
   },
   "outputs": [],
   "source": [
    "# initialize model, loss-function and optimizer\n",
    "model = m.EmotionCNN(num_classes=7)  # FER-2013 has 7 emotion class\n",
    "if not os.path.exists(m.record_save_path):\n",
    "    os.makedirs(m.record_save_path)\n",
    "criterion = nn.CrossEntropyLoss()\n",
    "optimizer = torch.optim.Adam(model.parameters(), lr=0.0001)"
   ]
  },
  {
   "cell_type": "code",
   "execution_count": null,
   "id": "a73e3ae3eea3ff84",
   "metadata": {
    "ExecuteTime": {
     "end_time": "2023-10-24T19:54:19.873112300Z",
     "start_time": "2023-10-24T19:54:19.681970800Z"
    },
    "collapsed": false
   },
   "outputs": [],
   "source": [
    "# training model\n",
    "num_epochs = 2000\n",
    "\n",
    "# early stopping variables\n",
    "stop_counter = 5 # number of count to trigger early stop\n",
    "stop_counter_window = stop_counter + 5 # a range to check stop_counter\n",
    "different = 0.0001 # different between the best val loss and the most recent one\n",
    "stop_counter_interval = 30 # check for early stop for every stop_counter_interval\n",
    "counter = 0 # number of count for every trail of early stop\n",
    "is_always = True # always check for early stop, set to true will ignore other setting except stop_counter\n",
    "is_exe = False # is early stop running\n",
    "run_after = 20\n",
    "early_stopping = EarlyStop(m.pth_save_path, stop_counter, different, type=\"accuracy\")"
   ]
  },
  {
   "cell_type": "code",
   "execution_count": null,
   "id": "dbee02adc11f36ba",
   "metadata": {
    "ExecuteTime": {
     "start_time": "2023-10-24T19:54:20.915057500Z"
    },
    "collapsed": false,
    "is_executing": true
   },
   "outputs": [
    {
     "name": "stderr",
     "output_type": "stream",
     "text": [
      "avg loss[-5:] = ['1.81181', '1.81197', '1.81184', '1.81157', '1.81171']\tval loss[-5:] = ['1.80702']\taccuracy[-5:] = ['0.25095', '0.25089', '0.25092', '0.25089', '0.25084']\tval accuracy[-5:] = ['0.25508']\tbest value = 0.25508\tCounter = 0/5 | 1/10\t:   1%|\u001B[32m▏                   \u001B[0m| 16/2000 [19:06<38:49:08, 70.44s/epoch]\u001B[32m\u001B[0m"
     ]
    }
   ],
   "source": [
    "model.to(device)\n",
    "\n",
    "# progress bar\n",
    "process = tqdm(range(num_epochs), bar_format='{l_bar}{bar:20}{r_bar}{bar:-20b}', colour='green', unit='epoch')\n",
    "\n",
    "for epoch in process:\n",
    "    running_loss = 0.0\n",
    "    accuracy = 0.0\n",
    "    model.train()\n",
    "    for inputs, labels in train_loader:\n",
    "        inputs, labels = inputs.to(device), labels.to(device)\n",
    "        # forwarding get output\n",
    "        outputs = model(inputs)\n",
    "        # compute loss of output\n",
    "        loss = criterion(outputs, labels)\n",
    "        # backward propagation\n",
    "        optimizer.zero_grad()\n",
    "        loss.backward()\n",
    "        optimizer.step()\n",
    "        # record training status\n",
    "        running_loss += loss.item()\n",
    "        probability = torch.nn.functional.softmax(outputs, dim=1)\n",
    "        max_probability, prediction = torch.max(probability, dim=1)\n",
    "        num_correct_prediction = (prediction == labels).sum().item()\n",
    "        correct_prediction_pre_epoch.append(num_correct_prediction)\n",
    "        accuracy += num_correct_prediction / inputs.shape[0]\n",
    "    # save training status\n",
    "    loss_history_per_epoch.append((running_loss / len(train_loader)))\n",
    "    accuracy_per_epoch.append((accuracy / len(train_loader)))\n",
    "\n",
    "    # training validation + early stopping\n",
    "    if epoch >= run_after and (is_always or is_exe or epoch % stop_counter_interval == 0):\n",
    "        val_loss = 0.0\n",
    "        val_accuracy = 0.0\n",
    "\n",
    "        if not is_always and epoch% stop_counter_interval ==0:\n",
    "            early_stopping.counter = 0\n",
    "            is_exe = True\n",
    "\n",
    "        counter += 1\n",
    "\n",
    "        if not is_always and counter >= stop_counter_window:\n",
    "            counter = 0\n",
    "            is_exe = False\n",
    "        model.eval()\n",
    "        with torch.no_grad():\n",
    "            for inputs, labels in val_loader:\n",
    "                inputs, labels = inputs.to(device), labels.to(device)\n",
    "                outputs = model(inputs)\n",
    "                loss = criterion(outputs, labels)\n",
    "                val_loss += loss.item()\n",
    "                probability = torch.nn.functional.softmax(outputs, dim=1)\n",
    "                max_probability, prediction = torch.max(probability, dim=1)\n",
    "                num_correct_prediction = (prediction == labels).sum().item()\n",
    "                accuracy = num_correct_prediction / inputs.shape[0]\n",
    "                val_accuracy += accuracy\n",
    "        val_loss = val_loss / len(val_loader)\n",
    "        val_accuracy = val_accuracy / len(val_loader)\n",
    "        val_loss_per_epoch.append(val_loss)\n",
    "        val_accuracy_per_epoch.append(val_accuracy)\n",
    "\n",
    "        early_stopping.check_status(model, val_accuracy)\n",
    "\n",
    "        # display recently 5 average loss of epochs\n",
    "        process.set_description(f\"avg loss[-5:] = {['{:.5f}'.format(num) for num in loss_history_per_epoch[-5:]]}\\t\"\n",
    "                                f\"val loss[-5:] = {['{:.5f}'.format(num) for num in val_loss_per_epoch[-5:]]}\\t\"\n",
    "                                f\"accuracy[-5:] = {['{:.5f}'.format(num) for num in accuracy_per_epoch[-5:]]}\\t\"\n",
    "                                f\"val accuracy[-5:] = {['{:.5f}'.format(num) for num in val_accuracy_per_epoch[-5:]]}\\t\"\n",
    "                                f\"best value = {'{:.5f}'.format(early_stopping.best_of_all_value)}\\t\"\n",
    "                                f\"Counter = {early_stopping.counter}/{stop_counter} | {counter}/{stop_counter_window}\\t\")\n",
    "    else:\n",
    "        process.set_description(f\"avg loss[-5:] = {['{:.5f}'.format(num) for num in loss_history_per_epoch[-5:]]}\\t\"\n",
    "                                f\"accuracy[-5:] = {['{:.5f}'.format(num) for num in accuracy_per_epoch[-5:]]}\\t\")\n",
    "\n",
    "    if early_stopping.early_stop:\n",
    "        print('\\nTrigger Early Stopping\\n')\n",
    "        break"
   ]
  },
  {
   "cell_type": "code",
   "execution_count": null,
   "id": "693c80bd33607ae",
   "metadata": {
    "ExecuteTime": {
     "end_time": "2023-10-24T18:17:56.660178700Z",
     "start_time": "2023-10-24T18:17:55.664185Z"
    },
    "collapsed": false
   },
   "outputs": [],
   "source": [
    "# save the pth file\n",
    "torch.save(model.state_dict(), m.pth_manual_save_path)\n",
    "\n",
    "utility.save_pickle_files(loss_history_per_epoch, m.record_save_path + '/loss_history.pkl')\n",
    "utility.save_pickle_files(accuracy_per_epoch, m.record_save_path + '/accuracy_history.pkl')\n",
    "utility.save_pickle_files(val_loss_per_epoch, m.record_save_path + '/val_loss_history.pkl')\n",
    "utility.save_pickle_files(val_accuracy_per_epoch, m.record_save_path + '/val_accuracy_history.pkl.pkl')"
   ]
  },
  {
   "cell_type": "code",
   "execution_count": null,
   "id": "834c051e833e8399",
   "metadata": {
    "ExecuteTime": {
     "end_time": "2023-10-24T18:18:22.800739800Z",
     "start_time": "2023-10-24T18:17:56.660682200Z"
    },
    "collapsed": false
   },
   "outputs": [
    {
     "name": "stdout",
     "output_type": "stream",
     "text": [
      "Test Accuracy: 59.83560880468097%\n",
      "Test Accuracy: 58.386737252716635%\n"
     ]
    }
   ],
   "source": [
    "# evaluate model\n",
    "model = m.EmotionCNN(num_classes=7)\n",
    "utility.model_validation(model, device, test_loader, m.pth_save_path)\n",
    "utility.model_validation(model, device, test_loader, m.pth_manual_save_path)"
   ]
  },
  {
   "cell_type": "code",
   "execution_count": null,
   "id": "c6fabec0f7a49f7",
   "metadata": {
    "ExecuteTime": {
     "end_time": "2023-10-24T19:31:43.255282300Z",
     "start_time": "2023-10-24T19:31:29.697709200Z"
    },
    "collapsed": false
   },
   "outputs": [
    {
     "name": "stdout",
     "output_type": "stream",
     "text": [
      "Test Accuracy: 58.386737252716635%\n"
     ]
    }
   ],
   "source": [
    "model.eval()\n",
    "\n",
    "correct = 0\n",
    "total = 0\n",
    "\n",
    "with torch.no_grad():\n",
    "    for inputs, labels in test_loader:\n",
    "        inputs, labels = inputs.to(device), labels.to(device)\n",
    "        outputs = model(inputs)\n",
    "        _, predicted = torch.max(outputs.data, 1)  # predicted is the emotion index\n",
    "        total += labels.size(0)\n",
    "        correct += (predicted == labels).sum().item()\n",
    "\n",
    "accuracy = 100 * correct / total\n",
    "print(f\"Test Accuracy: {accuracy}%\")"
   ]
  },
  {
   "cell_type": "code",
   "execution_count": null,
   "id": "f398b1ba27997308",
   "metadata": {
    "collapsed": false
   },
   "outputs": [],
   "source": []
  }
 ],
 "metadata": {
  "kernelspec": {
   "display_name": "Python 3",
   "language": "python",
   "name": "python3"
  },
  "language_info": {
   "codemirror_mode": {
    "name": "ipython",
    "version": 3
   },
   "file_extension": ".py",
   "mimetype": "text/x-python",
   "name": "python",
   "nbconvert_exporter": "python",
   "pygments_lexer": "ipython3",
   "version": "3.8.10"
  }
 },
 "nbformat": 4,
 "nbformat_minor": 5
}
