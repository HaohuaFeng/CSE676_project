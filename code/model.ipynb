{
 "cells": [
  {
   "cell_type": "markdown",
   "metadata": {},
   "source": [
    "## !! The final result should be only a runnable .py file !!"
   ]
  },
  {
   "cell_type": "code",
   "execution_count": 2,
   "metadata": {
    "ExecuteTime": {
     "end_time": "2023-10-22T01:13:05.676439600Z",
     "start_time": "2023-10-22T01:13:04.067498600Z"
    }
   },
   "outputs": [],
   "source": [
    "import torch\n",
    "import torch.nn as nn\n",
    "import torch.optim as optim\n",
    "from torchvision import datasets, transforms\n",
    "from torch.utils.data import DataLoader\n",
    "from tqdm import tqdm\n",
    "from matplotlib import pyplot as plt\n",
    "import pickle\n",
    "import numpy as np"
   ]
  },
  {
   "cell_type": "markdown",
   "metadata": {},
   "source": [
    "# 0. Data Pre-processing"
   ]
  },
  {
   "cell_type": "code",
   "execution_count": 3,
   "metadata": {
    "ExecuteTime": {
     "end_time": "2023-10-22T01:13:07.347510300Z",
     "start_time": "2023-10-22T01:13:07.286543800Z"
    }
   },
   "outputs": [
    {
     "name": "stdout",
     "output_type": "stream",
     "text": [
      "['angry', 'disgust', 'fear', 'happy', 'neutral', 'sad', 'surprise']\n"
     ]
    }
   ],
   "source": [
    "data_transforms = transforms.Compose([\n",
    "    transforms.Grayscale(num_output_channels=1),  # turn the graph to single color channel\n",
    "    transforms.Resize((227, 227)),\n",
    "    transforms.ToTensor(),\n",
    "    transforms.Normalize(mean=[0.485], std=[0.229])  # normalize\n",
    "])\n",
    "\n",
    "train_dataset = datasets.ImageFolder(\n",
    "    '../dataset/train', transform=data_transforms)\n",
    "train_loader = DataLoader(train_dataset, batch_size=1024, shuffle=True, num_workers=8)\n",
    "\n",
    "test_dataset = datasets.ImageFolder(\n",
    "    '../dataset/test', transform=data_transforms)\n",
    "test_loader = DataLoader(test_dataset, batch_size=512, shuffle=False, num_workers=8)\n",
    "\n",
    "print(train_dataset.classes)"
   ]
  },
  {
   "cell_type": "markdown",
   "metadata": {},
   "source": [
    "# 1. Model"
   ]
  },
  {
   "cell_type": "code",
   "execution_count": 4,
   "metadata": {
    "ExecuteTime": {
     "end_time": "2023-10-21T22:10:38.504027800Z",
     "start_time": "2023-10-21T22:10:38.073359500Z"
    }
   },
   "outputs": [],
   "source": [
    "# reference: AlexNet\n",
    "class EmotionCNN(nn.Module):\n",
    "    def __init__(self, num_classes):\n",
    "        super(EmotionCNN, self).__init__()\n",
    "        self.features = nn.Sequential(\n",
    "            nn.Conv2d(1, 96, kernel_size=11, stride=4, padding=0),\n",
    "            nn.ReLU(inplace=True), # inplace: override\n",
    "            nn.MaxPool2d(kernel_size=3, stride=2),\n",
    "\n",
    "            nn.Conv2d(96, 256, kernel_size=5, padding=2),\n",
    "            nn.ReLU(inplace=True),\n",
    "            nn.MaxPool2d(kernel_size=3, stride=2),\n",
    "\n",
    "            nn.Conv2d(256, 384, kernel_size=3, padding=1),\n",
    "            nn.ReLU(inplace=True),\n",
    "\n",
    "            nn.Conv2d(384, 384, kernel_size=3, padding=1),\n",
    "            nn.ReLU(inplace=True),\n",
    "\n",
    "            nn.Conv2d(384, 256, kernel_size=3, padding=1),\n",
    "            nn.ReLU(inplace=True),\n",
    "            nn.MaxPool2d(kernel_size=3, stride=2),\n",
    "        )\n",
    "        self.classifier = nn.Sequential(\n",
    "            nn.Dropout(),\n",
    "            nn.Linear(256 * 6 * 6, 4096),\n",
    "            nn.ReLU(inplace=True),\n",
    "            nn.Dropout(),\n",
    "            nn.Linear(4096, 4096),\n",
    "            nn.ReLU(inplace=True),\n",
    "            nn.Dropout(),\n",
    "            nn.Linear(4096, 4096),\n",
    "            nn.ReLU(inplace=True),\n",
    "            nn.Dropout(),\n",
    "            nn.Linear(4096, 4096),\n",
    "            nn.ReLU(inplace=True),\n",
    "            nn.Dropout(),\n",
    "            nn.Linear(4096, 4096),\n",
    "            nn.ReLU(inplace=True),\n",
    "            nn.Dropout(),\n",
    "            nn.Linear(4096, 4096),\n",
    "            nn.ReLU(inplace=True),\n",
    "            nn.Dropout(),\n",
    "            nn.Linear(4096, 4096),\n",
    "            nn.ReLU(inplace=True),\n",
    "            nn.Dropout(),\n",
    "            nn.Linear(4096, 4096),\n",
    "            nn.ReLU(inplace=True),\n",
    "            nn.Linear(4096, num_classes),\n",
    "        )\n",
    "\n",
    "    def forward(self, x):\n",
    "        x = self.features(x)\n",
    "        x = x.view(x.size(0), 256 * 6 * 6)\n",
    "        x = self.classifier(x)\n",
    "        return x\n",
    "    \n",
    "\n",
    "# initialize model, loss-function and optimizer\n",
    "model = EmotionCNN(num_classes=7)  # FER-2013 has 7 emotion class\n",
    "criterion = nn.CrossEntropyLoss()\n",
    "optimizer = optim.Adam(model.parameters(), lr=0.00025)"
   ]
  },
  {
   "cell_type": "code",
   "execution_count": 5,
   "metadata": {
    "ExecuteTime": {
     "end_time": "2023-10-21T22:10:39.069220100Z",
     "start_time": "2023-10-21T22:10:39.062970300Z"
    }
   },
   "outputs": [
    {
     "name": "stdout",
     "output_type": "stream",
     "text": [
      "using cuda\n"
     ]
    }
   ],
   "source": [
    "# select device\n",
    "if torch.cuda.is_available():\n",
    "    device = torch.device(\"cuda:0\")\n",
    "    print(\"using cuda\")\n",
    "#elif torch.backends.mps.is_available():\n",
    "#    device = torch.device(\"mps\")\n",
    "#    print(\"using mac mps\")\n",
    "else:\n",
    "    device = torch.device(\"cpu\")\n",
    "    print(\"using cpu\")"
   ]
  },
  {
   "cell_type": "code",
   "execution_count": 6,
   "metadata": {
    "ExecuteTime": {
     "end_time": "2023-10-22T00:42:00.294274500Z",
     "start_time": "2023-10-21T22:10:40.349987900Z"
    }
   },
   "outputs": [
    {
     "name": "stderr",
     "output_type": "stream",
     "text": [
      "loss[-5:] = ['0.019451', '0.020594', '0.015557', '0.030212', '0.022792']: 100%|\u001B[32m█████████████████████████\u001B[0m| 500/500 [2:31:19<00:00, 18.16s/it]\u001B[32m\u001B[0m  \n"
     ]
    }
   ],
   "source": [
    "# training model\n",
    "num_epochs = 500\n",
    "model.to(device)\n",
    "\n",
    "loss_history = []\n",
    "\n",
    "process = tqdm(range(num_epochs), bar_format='{l_bar}{bar:25}{r_bar}{bar:-25b}', colour='green', ascii='░▒█', unit='epoch')\n",
    "for epoch in process:\n",
    "    model.train()\n",
    "    running_loss = 0.0\n",
    "    \n",
    "    for inputs, labels in train_loader:\n",
    "        inputs, labels = inputs.to(device), labels.to(device)\n",
    "        optimizer.zero_grad()\n",
    "        outputs = model(inputs)\n",
    "        loss = criterion(outputs, labels)\n",
    "        loss.backward()\n",
    "        optimizer.step()\n",
    "        running_loss += loss.item()\n",
    "    \n",
    "    avg_loss = f\"{(running_loss / len(train_loader)):5f}\"\n",
    "    loss_history.append(avg_loss)\n",
    "    process.set_description(f\"loss[-5:] = {loss_history[-5:]}\")\n",
    "    # print(f\"Epoch {epoch + 1}/{num_epochs}, Loss: {running_loss / len(train_loader)}\")\n",
    "    "
   ]
  },
  {
   "cell_type": "code",
   "execution_count": 10,
   "metadata": {
    "ExecuteTime": {
     "end_time": "2023-10-22T00:42:20.316765400Z",
     "start_time": "2023-10-22T00:42:19.434997100Z"
    }
   },
   "outputs": [],
   "source": [
    "# save the pth file\n",
    "torch.save(model.state_dict(), '8FC 00025LR emotion_cnn.pth')\n",
    "\n",
    "with open('train_loss_history_8FC.pkl', 'wb') as f:\n",
    "    pickle.dump(loss_history, f)"
   ]
  },
  {
   "cell_type": "code",
   "execution_count": 15,
   "outputs": [
    {
     "name": "stdout",
     "output_type": "stream",
     "text": [
      "['1.834306', '1.810011', '1.794861', '1.719273', '1.654261', '1.605301', '1.517140', '1.442505', '1.410916', '1.370598', '1.309154', '1.282325', '1.263506', '1.237558', '1.196351', '1.145569', '1.109914', '1.094332', '1.062397', '1.013903', '1.032368', '0.952754', '0.908776', '0.897559', '0.846438', '0.788651', '0.761550', '0.773488', '0.803451', '0.731214', '0.736486', '0.610556', '0.587876', '0.611627', '0.524746', '0.560807', '0.492130', '0.461310', '0.408537', '0.389605', '0.352084', '0.385674', '0.302500', '0.263386', '0.250489', '0.263304', '0.225821', '0.304147', '0.239438', '0.191229', '0.192291', '0.179039', '0.162417', '0.156715', '0.203015', '0.141666', '0.168112', '0.169700', '0.137356', '0.121497', '0.188677', '0.140741', '0.107780', '0.133143', '0.156949', '0.159587', '0.123442', '0.096552', '0.087671', '0.073089', '0.061042', '0.061153', '0.070395', '0.064030', '0.128174', '0.092593', '0.102060', '0.147427', '0.082250', '0.077471', '0.060944', '0.054862', '0.048410', '0.062361', '0.106885', '0.166309', '0.118685', '0.092162', '0.056315', '0.048665', '0.052816', '0.060035', '0.051698', '0.043203', '0.063063', '0.047899', '0.037348', '0.048381', '0.042375', '0.040331', '0.031745', '0.034474', '0.058949', '0.040976', '0.171701', '0.131298', '0.156319', '0.178997', '0.101517', '0.057883', '0.056310', '0.047178', '0.035497', '0.053511', '0.047500', '0.056780', '0.084072', '0.067885', '0.053851', '0.040439', '0.041300', '0.039368', '0.043267', '0.034660', '0.033467', '0.041254', '0.089590', '0.081331', '0.070608', '0.078145', '0.040701', '0.033386', '0.033542', '0.030919', '0.028552', '0.028398', '0.027962', '0.026313', '0.026134', '0.027012', '0.026691', '0.026095', '0.027047', '0.037700', '0.029454', '0.026953', '0.025474', '0.023695', '0.036148', '0.031417', '0.049556', '0.086623', '0.047076', '0.068539', '0.040443', '0.034658', '0.035790', '0.039445', '0.028972', '0.027933', '0.028356', '0.031421', '0.033277', '0.101143', '0.048193', '0.050586', '0.042502', '0.035179', '0.028987', '0.029343', '0.024886', '0.026371', '0.027867', '0.022085', '0.022349', '0.024667', '0.028123', '0.073452', '0.091947', '0.054174', '0.041882', '0.040066', '0.029285', '0.126305', '0.075665', '0.047474', '0.035005', '0.042096', '0.036688', '0.032640', '0.094963', '0.051201', '0.042344', '0.038144', '0.028497', '0.027088', '0.066150', '0.040638', '0.031445', '0.029122', '0.117251', '0.106052', '0.052423', '0.042257', '0.032056', '0.061707', '0.041783', '0.028392', '0.041184', '0.091628', '0.054521', '0.040070', '0.038788', '0.029121', '0.023033', '0.024247', '0.033346', '0.030790', '0.026975', '0.024482', '0.023403', '0.030375', '0.097749', '0.087703', '0.165872', '0.061518', '0.034801', '0.030290', '0.022874', '0.022307', '0.021169', '0.026168', '0.019208', '0.024665', '0.020621', '0.022386', '0.021203', '0.018575', '0.037003', '0.074291', '0.100070', '0.044402', '0.031143', '0.038191', '0.040722', '0.090013', '0.067349', '0.033561', '0.030082', '0.021944', '0.022613', '0.020272', '0.021313', '0.022937', '0.019974', '0.023479', '0.017316', '0.020379', '0.022106', '0.018420', '0.017161', '0.019208', '0.017263', '0.022634', '0.019659', '0.016914', '0.015837', '0.018567', '0.016394', '0.018988', '0.040030', '0.029210', '0.076967', '0.131297', '0.068295', '0.038209', '0.029284', '0.025885', '0.024638', '0.017648', '0.021538', '0.022842', '0.022458', '0.018781', '0.023787', '0.024706', '0.018251', '0.022021', '0.020411', '0.018623', '0.019278', '0.018383', '0.020325', '0.017737', '0.023267', '0.023132', '0.023993', '0.017051', '0.014590', '0.016988', '0.018509', '0.018296', '0.025029', '0.022002', '0.020177', '0.030058', '0.025292', '0.023395', '0.022272', '0.024517', '0.026842', '0.024549', '0.028109', '0.026748', '0.076599', '0.038970', '0.029123', '0.024960', '0.022252', '0.030209', '0.068085', '0.032805', '0.034821', '0.025495', '0.021764', '0.023308', '0.019278', '0.022419', '0.022770', '0.025254', '0.021860', '0.024162', '0.021675', '0.031183', '0.065077', '0.041936', '0.028134', '0.025772', '0.026381', '0.036901', '0.026226', '0.027034', '0.023154', '0.020456', '0.031539', '0.026665', '0.018892', '0.023703', '0.020862', '0.019708', '0.019102', '0.017960', '0.020651', '0.023435', '0.020939', '0.019710', '0.015899', '0.015806', '0.023841', '0.020748', '0.020646', '0.020661', '0.021682', '0.021847', '0.024139', '0.023089', '0.019853', '0.018629', '0.020327', '0.023156', '0.021135', '0.024628', '0.029681', '0.026160', '0.030885', '0.028252', '0.026645', '0.027303', '0.027169', '0.134182', '0.052912', '0.028192', '0.025069', '0.022245', '0.021640', '0.018797', '0.017459', '0.016923', '0.022457', '0.017478', '0.014148', '0.018969', '0.015984', '0.016691', '0.014445', '0.015579', '0.015915', '0.021443', '0.020652', '0.017973', '0.049822', '0.028929', '0.023210', '0.019764', '0.021044', '0.019997', '0.020771', '0.020495', '0.031177', '0.100744', '0.035390', '0.032494', '0.034319', '0.019427', '0.019908', '0.019976', '0.053685', '0.036443', '0.024507', '0.055168', '0.024507', '0.028528', '0.051730', '0.029581', '0.027550', '0.022180', '0.021418', '0.019071', '0.017748', '0.015099', '0.013595', '0.012496', '0.020075', '0.013921', '0.017206', '0.015842', '0.103973', '0.037834', '0.050903', '0.038934', '0.026800', '0.041991', '0.022488', '0.017029', '0.019755', '0.019807', '0.052858', '0.025525', '0.014509', '0.016747', '0.018145', '0.011856', '0.013638', '0.017345', '0.015079', '0.014815', '0.019209', '0.014119', '0.012655', '0.015392', '0.011016', '0.012751', '0.012105', '0.010339', '0.009857', '0.020583', '0.018145', '0.024428', '0.015288', '0.020426', '0.039643', '0.265508', '0.092840', '0.044868', '0.034145', '0.033259', '0.031316', '0.036690', '0.024461', '0.023374', '0.020173', '0.018594', '0.016178', '0.016874', '0.021073', '0.019072', '0.025087', '0.018417', '0.022223', '0.017161', '0.014415', '0.015450', '0.014097', '0.014485', '0.016426', '0.019451', '0.020594', '0.015557', '0.030212', '0.022792']\n"
     ]
    }
   ],
   "source": [
    "print(loss_history)"
   ],
   "metadata": {
    "collapsed": false,
    "ExecuteTime": {
     "end_time": "2023-10-22T00:45:52.212885200Z",
     "start_time": "2023-10-22T00:45:52.208816100Z"
    }
   }
  },
  {
   "cell_type": "code",
   "execution_count": 16,
   "metadata": {
    "ExecuteTime": {
     "end_time": "2023-10-22T00:46:26.147261600Z",
     "start_time": "2023-10-22T00:46:12.412622300Z"
    }
   },
   "outputs": [
    {
     "name": "stdout",
     "output_type": "stream",
     "text": [
      "Test Accuracy: 62.98411813875732%\n"
     ]
    }
   ],
   "source": [
    "# evaluate model\n",
    "\n",
    "model = EmotionCNN(num_classes=7)\n",
    "model.load_state_dict(torch.load('emotion_cnn.pth'))\n",
    "model.to(device)\n",
    "model.eval()\n",
    "\n",
    "correct = 0\n",
    "total = 0\n",
    "\n",
    "with torch.no_grad():\n",
    "    for inputs, labels in test_loader:\n",
    "        inputs, labels = inputs.to(device), labels.to(device)\n",
    "        outputs = model(inputs)\n",
    "        _, predicted = torch.max(outputs.data, 1) # predicted is the emotion index\n",
    "        total += labels.size(0)\n",
    "        correct += (predicted == labels).sum().item()\n",
    "\n",
    "accuracy = 100 * correct / total\n",
    "print(f\"Test Accuracy: {accuracy}%\")\n"
   ]
  },
  {
   "cell_type": "code",
   "execution_count": null,
   "outputs": [],
   "source": [],
   "metadata": {
    "collapsed": false
   }
  }
 ],
 "metadata": {
  "kernelspec": {
   "display_name": "Python 3",
   "language": "python",
   "name": "python3"
  },
  "language_info": {
   "codemirror_mode": {
    "name": "ipython",
    "version": 3
   },
   "file_extension": ".py",
   "mimetype": "text/x-python",
   "name": "python",
   "nbconvert_exporter": "python",
   "pygments_lexer": "ipython3",
   "version": "3.11.2"
  },
  "orig_nbformat": 4
 },
 "nbformat": 4,
 "nbformat_minor": 2
}
