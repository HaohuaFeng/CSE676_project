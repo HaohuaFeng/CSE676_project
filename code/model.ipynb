{
 "cells": [
  {
   "cell_type": "markdown",
   "metadata": {},
   "source": [
    "## !! The final result should be only a runnable .py file !!"
   ]
  },
  {
   "cell_type": "code",
   "execution_count": null,
   "metadata": {
    "ExecuteTime": {
     "end_time": "2023-10-23T01:26:21.158792800Z",
     "start_time": "2023-10-23T01:26:19.740416400Z"
    }
   },
   "outputs": [],
   "source": [
    "import torch\n",
    "import torch.nn as nn\n",
    "import torch.optim as optim\n",
    "from torchvision import datasets, transforms\n",
    "from torch.utils.data import DataLoader\n",
    "from tqdm import tqdm\n",
    "import pickle\n",
    "from torch.utils.data import random_split"
   ]
  },
  {
   "cell_type": "markdown",
   "metadata": {},
   "source": [
    "# 0. Data Pre-processing"
   ]
  },
  {
   "cell_type": "code",
   "execution_count": null,
   "metadata": {
    "ExecuteTime": {
     "end_time": "2023-10-23T01:26:21.218552400Z",
     "start_time": "2023-10-23T01:26:21.159799300Z"
    }
   },
   "outputs": [],
   "source": [
    "data_transforms = transforms.Compose([\n",
    "    transforms.Grayscale(num_output_channels=1),  # turn the graph to single color channel\n",
    "    transforms.Resize((227, 227)), # resize to 227 * 227 because we use AlexNet\n",
    "    transforms.ToTensor(),\n",
    "    transforms.Normalize(mean=[0.485], std=[0.229])  # normalize\n",
    "])\n",
    "\n",
    "train_dataset = datasets.ImageFolder(\n",
    "    '../dataset/train', transform=data_transforms)\n",
    "# split training set to training set and validation set\n",
    "# a random seed to ensure reproducibility of results.\n",
    "torch.manual_seed(42)\n",
    "train_size = int(0.85 * len(train_dataset))\n",
    "val_size = len(train_dataset) - train_size\n",
    "train_dataset, val_dataset = random_split(train_dataset, [train_size, val_size])\n",
    "\n",
    "test_dataset = datasets.ImageFolder('../dataset/test', transform=data_transforms)\n",
    "\n",
    "\n",
    "train_loader = DataLoader(train_dataset, batch_size=1024, shuffle=True, num_workers=8, pin_memory=True)\n",
    "val_loader = DataLoader(val_dataset, batch_size=1024,shuffle=False, num_workers=8, pin_memory=True)\n",
    "test_loader = DataLoader(test_dataset, batch_size=512, shuffle=False, num_workers=8, pin_memory=True)\n",
    "\n",
    "print(len(train_loader), len(val_loader), len(test_loader))"
   ]
  },
  {
   "cell_type": "markdown",
   "metadata": {},
   "source": [
    "# 1. Model"
   ]
  },
  {
   "cell_type": "code",
   "execution_count": null,
   "metadata": {
    "ExecuteTime": {
     "end_time": "2023-10-23T01:26:21.473441900Z",
     "start_time": "2023-10-23T01:26:21.222581300Z"
    }
   },
   "outputs": [],
   "source": [
    "# todo: we should compare the optimal version with the previous ones\n",
    "# version optimal\n",
    "# reference: AlexNet\n",
    "class EmotionCNN(nn.Module):\n",
    "    def __init__(self, num_classes):\n",
    "        super(EmotionCNN, self).__init__()\n",
    "        self.features = nn.Sequential(\n",
    "            nn.Conv2d(in_channels=1, out_channels=96, kernel_size=11, stride=4, padding=2), \n",
    "            # out_channels is decided by # of filters\n",
    "            # batch_size doesn't show here and is different from in_channels.\n",
    "            nn.BatchNorm2d(96),\n",
    "            nn.ReLU(inplace=True), # inplace: override\n",
    "            nn.MaxPool2d(kernel_size=3, stride=2),\n",
    "\n",
    "            nn.Conv2d(96, 256, kernel_size=5, padding=2),\n",
    "            nn.BatchNorm2d(256),\n",
    "            nn.ReLU(inplace=True),\n",
    "            nn.MaxPool2d(kernel_size=3, stride=2),\n",
    "\n",
    "            nn.Conv2d(256, 384, kernel_size=3, padding=1),\n",
    "            nn.BatchNorm2d(384),\n",
    "            nn.ReLU(inplace=True),\n",
    "\n",
    "            nn.Conv2d(384, 384, kernel_size=3, padding=1),\n",
    "            nn.BatchNorm2d(384),\n",
    "            nn.ReLU(inplace=True),\n",
    "\n",
    "            nn.Conv2d(384, 256, kernel_size=3, padding=1),\n",
    "            nn.BatchNorm2d(256),\n",
    "            nn.ReLU(inplace=True),\n",
    "            nn.MaxPool2d(kernel_size=3, stride=2),\n",
    "            # output shape: (batch_size, channels = 256, height = 6, width = 6)\n",
    "        )\n",
    "        self.avgpool = nn.AdaptiveAvgPool2d((6, 6))\n",
    "        self.flatten = nn.Flatten(1) \n",
    "        # flatten from channel, ex: [batch_size, channels(1), height, width] -> [batch_size, channels * height * width]\n",
    "        self.classifier = nn.Sequential(\n",
    "            nn.Dropout(),\n",
    "            nn.Linear(256 * 6 * 6, 4096),\n",
    "            nn.BatchNorm1d(4096),\n",
    "            nn.ReLU(inplace=True),\n",
    "            nn.Dropout(),\n",
    "            nn.Linear(4096, 4096),\n",
    "            nn.BatchNorm1d(4096),\n",
    "            nn.ReLU(inplace=True),\n",
    "            nn.Dropout(),\n",
    "            nn.Linear(4096, 4096),\n",
    "            nn.BatchNorm1d(4096),\n",
    "            nn.ReLU(inplace=True),\n",
    "            nn.Dropout(),\n",
    "            nn.Linear(4096, 4096),\n",
    "            nn.BatchNorm1d(4096),\n",
    "            nn.ReLU(inplace=True),\n",
    "            nn.Linear(4096, num_classes),\n",
    "        )\n",
    "\n",
    "    def forward(self, x):\n",
    "        x = self.features(x)\n",
    "        x = self.avgpool(x)\n",
    "        x = self.flatten(x)\n",
    "        x = self.classifier(x)\n",
    "        return x # the probability of 7 emotion class\n",
    "\n",
    "# initialize model, loss-function and optimizer\n",
    "model = EmotionCNN(num_classes=7)  # FER-2013 has 7 emotion class\n",
    "criterion = nn.CrossEntropyLoss()\n",
    "optimizer = torch.optim.SGD(model.parameters(), lr=0.0001, momentum=0.9)"
   ]
  },
  {
   "cell_type": "code",
   "execution_count": null,
   "metadata": {
    "ExecuteTime": {
     "end_time": "2023-10-23T01:26:23.134236900Z",
     "start_time": "2023-10-23T01:26:23.110660300Z"
    }
   },
   "outputs": [],
   "source": [
    "# select device\n",
    "if torch.cuda.is_available():\n",
    "    device = torch.device(\"cuda:0\")\n",
    "    print(\"using cuda\")\n",
    "    # Enable cuDNN auto-tuner, may not work well on image with different dimensions\n",
    "    torch.backends.cudnn.enabled = True\n",
    "    torch.backends.cudnn.benchmark = True\n",
    "    \n",
    "#elif torch.backends.mps.is_available():\n",
    "#    device = torch.device(\"mps\")\n",
    "#    print(\"using mac mps\")\n",
    "else:\n",
    "    device = torch.device(\"cpu\")\n",
    "    print(\"using cpu\")"
   ]
  },
  {
   "cell_type": "code",
   "execution_count": null,
   "metadata": {
    "ExecuteTime": {
     "end_time": "2023-10-23T01:26:25.011422200Z",
     "start_time": "2023-10-23T01:26:25.002141700Z"
    }
   },
   "outputs": [],
   "source": [
    "class EarlyStop:\n",
    "    def __init__(self, filename, stop_count, diff):\n",
    "        self.save_file_name = 'ES_' + filename\n",
    "        self.stop_count = stop_count\n",
    "        self.counter = 0\n",
    "        self.different = diff\n",
    "        self.min_val_loss = float('inf')\n",
    "        self.early_stop = False\n",
    "        self.best = None\n",
    "        \n",
    "    def save_model(self, validation_loss, new_model):\n",
    "        torch.save(new_model.state_dict(), self.save_file_name)\n",
    "        self.min_val_loss = validation_loss\n",
    "    \n",
    "    def check_status(self, validation_loss, new_model):\n",
    "        if self.best is None:\n",
    "            self.best = validation_loss\n",
    "            self.save_model(validation_loss, new_model)\n",
    "        elif (- validation_loss) < (- self.best + self.different):\n",
    "            self.counter += 1\n",
    "            if self.counter >= self.stop_count:\n",
    "                self.early_stop = True\n",
    "        else:\n",
    "            self.best = validation_loss\n",
    "            self.save_model(validation_loss, new_model)\n",
    "            self.counter = 0"
   ]
  },
  {
   "cell_type": "code",
   "execution_count": null,
   "metadata": {
    "ExecuteTime": {
     "end_time": "2023-10-23T01:26:25.914191900Z",
     "start_time": "2023-10-23T01:26:25.906607200Z"
    }
   },
   "outputs": [],
   "source": [
    "# average loss / epoch\n",
    "loss_history_per_epoch = []\n",
    "\n",
    "# correct prediction / epoch\n",
    "correct_prediction_pre_epoch = []\n",
    "\n",
    "# accuracy / epoch\n",
    "accuracy_per_epoch = []\n",
    "\n",
    "# validation loss\n",
    "val_loss_per_epoch = []\n",
    "\n",
    "# validation accuracy\n",
    "val_accuracy_per_epoch = []"
   ]
  },
  {
   "cell_type": "code",
   "execution_count": null,
   "metadata": {
    "ExecuteTime": {
     "start_time": "2023-10-23T01:26:44.404359800Z"
    },
    "is_executing": true
   },
   "outputs": [],
   "source": [
    "# training model\n",
    "num_epochs = 1000\n",
    "model.to(device)\n",
    "\n",
    "# early stopping variables\n",
    "save_filename = 'model.pth'\n",
    "stopping_count = 20\n",
    "different = 0.001\n",
    "early_stopping = EarlyStop(save_filename, stopping_count, different)\n",
    "\n",
    "# progress bar\n",
    "process = tqdm(range(num_epochs), bar_format='{l_bar}{bar:20}{r_bar}{bar:-20b}', colour='green', ascii='░▒█', unit='epoch')\n",
    "\n",
    "for epoch in process:\n",
    "    model.train()\n",
    "    running_loss = 0.0\n",
    "    accuracy = 0.0\n",
    "    \n",
    "    for inputs, labels in train_loader:\n",
    "        inputs, labels = inputs.to(device), labels.to(device)\n",
    "        \n",
    "        # forwarding get output\n",
    "        outputs = model(inputs)\n",
    "        \n",
    "        # compute loss of output\n",
    "        loss = criterion(outputs, labels)   \n",
    "        \n",
    "        # backward propagation\n",
    "        optimizer.zero_grad()\n",
    "        loss.backward()\n",
    "        optimizer.step()\n",
    "        \n",
    "        # record training status\n",
    "        running_loss += loss.item()\n",
    "        prediction = outputs.argmax(dim=1)\n",
    "        num_correct_prediction = (prediction == labels).sum().item()\n",
    "        correct_prediction_pre_epoch.append(num_correct_prediction)\n",
    "        accuracy += num_correct_prediction / inputs.shape[0]\n",
    "    \n",
    "    # save training status\n",
    "    loss_history_per_epoch.append((running_loss / len(train_loader)))\n",
    "    accuracy_per_epoch.append((accuracy / len(train_loader)))\n",
    "    \n",
    "    # training validation + early stopping\n",
    "    val_loss = 0.0\n",
    "    val_accuracy = 0.0\n",
    "    for inputs, labels in val_loader:\n",
    "        inputs, labels = inputs.to(device), labels.to(device)\n",
    "        outputs = model(inputs)\n",
    "        loss = criterion(outputs, labels)\n",
    "        val_loss += loss.item()\n",
    "        prediction = outputs.argmax(dim=1)\n",
    "        num_correct_prediction = (prediction == labels).sum().item()\n",
    "        accuracy = num_correct_prediction / inputs.shape[0]\n",
    "        val_accuracy += accuracy\n",
    "    val_loss_per_epoch.append((val_loss / len(val_loader)))\n",
    "    val_accuracy_per_epoch.append((val_accuracy / len(val_loader)))\n",
    "    \n",
    "    early_stopping.check_status(val_loss, model)\n",
    "\n",
    "    # display recently 5 average loss of epochs\n",
    "    process.set_description(f\"avg loss[-5:] = {loss_history_per_epoch[-5:]}; \"\n",
    "                            f\"best loss = {early_stopping.min_val_loss}, val loss = {val_loss}; \"\n",
    "                            f\"Stop Counter = {early_stopping.counter}/{stopping_count}\")\n",
    "\n",
    "    if early_stopping.early_stop:\n",
    "        print('\\nTrigger Early Stopping\\n')\n",
    "        break"
   ]
  },
  {
   "cell_type": "code",
   "execution_count": null,
   "metadata": {
    "is_executing": true
   },
   "outputs": [],
   "source": [
    "# save the pth file\n",
    "torch.save(model.state_dict(), 'MS_' + save_filename)\n",
    "\n",
    "with open('loss_history.pkl', 'wb') as f:\n",
    "    pickle.dump(loss_history_per_epoch, f)\n",
    "\n",
    "with open('accuracy_history.pkl', 'wb') as f:\n",
    "    pickle.dump(accuracy_per_epoch, f)\n",
    "\n",
    "with open('val_loss_history.pkl', 'wb') as f:\n",
    "    pickle.dump(val_loss_per_epoch, f)\n",
    "\n",
    "with open('val_accuracy_history.pkl', 'wb') as f:\n",
    "    pickle.dump(val_accuracy_per_epoch, f)"
   ]
  },
  {
   "cell_type": "code",
   "execution_count": null,
   "metadata": {
    "is_executing": true
   },
   "outputs": [],
   "source": [
    "# evaluate model\n",
    "model = EmotionCNN(num_classes=7)\n",
    "def test_data(path):\n",
    "    model.load_state_dict(torch.load(path))\n",
    "    model.to(device)\n",
    "    model.eval()\n",
    "    \n",
    "    correct = 0\n",
    "    total = 0\n",
    "    \n",
    "    with torch.no_grad():\n",
    "        for inputs, labels in test_loader:\n",
    "            inputs, labels = inputs.to(device), labels.to(device)\n",
    "            outputs = model(inputs)\n",
    "            _, predicted = torch.max(outputs.data, 1) # predicted is the emotion index\n",
    "            total += labels.size(0)\n",
    "            correct += (predicted == labels).sum().item()\n",
    "    \n",
    "    accuracy = 100 * correct / total\n",
    "    print(f\"Test Accuracy: {accuracy}%\")\n",
    "\n",
    "test_data('ES_' + save_filename) # early stop\n",
    "test_data('MS_' + save_filename) # manual stop"
   ]
  },
  {
   "cell_type": "code",
   "execution_count": null,
   "metadata": {},
   "outputs": [],
   "source": []
  }
 ],
 "metadata": {
  "kernelspec": {
   "display_name": "Python 3",
   "language": "python",
   "name": "python3"
  },
  "language_info": {
   "codemirror_mode": {
    "name": "ipython",
    "version": 3
   },
   "file_extension": ".py",
   "mimetype": "text/x-python",
   "name": "python",
   "nbconvert_exporter": "python",
   "pygments_lexer": "ipython3",
   "version": "3.11.2"
  }
 },
 "nbformat": 4,
 "nbformat_minor": 2
}
