{
 "cells": [
  {
   "cell_type": "markdown",
   "metadata": {},
   "source": [
    "# import"
   ]
  },
  {
   "cell_type": "code",
   "execution_count": 1,
   "id": "aff6d85dd0096bd6",
   "metadata": {
    "ExecuteTime": {
     "end_time": "2023-10-24T19:54:13.834099Z",
     "start_time": "2023-10-24T19:54:13.826580400Z"
    },
    "collapsed": false
   },
   "outputs": [],
   "source": [
    "import torch\n",
    "import torch.nn as nn\n",
    "import torch.optim as optim\n",
    "from torchvision import datasets, transforms\n",
    "from torchvision.transforms import autoaugment, transforms\n",
    "from torch.utils.data import DataLoader, random_split, ConcatDataset, Subset\n",
    "from tqdm import tqdm\n",
    "import models.optimizer.optimizer as optimizer\n",
    "from torch.optim.lr_scheduler import ReduceLROnPlateau\n",
    "from helper.training_early_stop import EarlyStop\n",
    "import helper.utility as utility"
   ]
  },
  {
   "cell_type": "markdown",
   "metadata": {},
   "source": [
    "# select device"
   ]
  },
  {
   "cell_type": "code",
   "execution_count": 2,
   "id": "6faa84704020905c",
   "metadata": {
    "ExecuteTime": {
     "end_time": "2023-10-24T19:54:16.889559200Z",
     "start_time": "2023-10-24T19:54:16.855974900Z"
    },
    "collapsed": false
   },
   "outputs": [
    {
     "name": "stdout",
     "output_type": "stream",
     "text": [
      "using CUDA + cudnn\n"
     ]
    }
   ],
   "source": [
    "device = utility.select_devices(use_cudnn_if_avaliable=True)"
   ]
  },
  {
   "cell_type": "markdown",
   "id": "718fed71c402d1dc",
   "metadata": {
    "collapsed": false
   },
   "source": [
    "# Data Pre-processing"
   ]
  },
  {
   "cell_type": "markdown",
   "metadata": {},
   "source": [
    "### transformer parameter"
   ]
  },
  {
   "cell_type": "code",
   "execution_count": 3,
   "metadata": {},
   "outputs": [],
   "source": [
    "# Alex 227, VGG 224, ResNet 224, Unet 96\n",
    "size = (64, 64)\n",
    "batch_size = 16\n",
    "channels = 1\n",
    "\n",
    "data_transforms = transforms.Compose([\n",
    "    transforms.Grayscale(num_output_channels=channels), \n",
    "    transforms.Resize(size),\n",
    "    transforms.ToTensor()\n",
    "])"
   ]
  },
  {
   "cell_type": "markdown",
   "metadata": {},
   "source": [
    "### create dataloader"
   ]
  },
  {
   "cell_type": "markdown",
   "metadata": {},
   "source": [
    "#### dataloader 1 RAF-DB"
   ]
  },
  {
   "cell_type": "code",
   "execution_count": 4,
   "metadata": {},
   "outputs": [],
   "source": [
    "test_path = '../RAF-DB/test'\n",
    "test_dataset1 = datasets.ImageFolder(test_path, transform=data_transforms)\n",
    "test_loader = DataLoader(test_dataset1, batch_size=batch_size, shuffle=False, pin_memory=False, num_workers=16)\n",
    "\n",
    "test_path2 = '../dataset/test/'\n",
    "test_dataset2 = datasets.ImageFolder(test_path2, transform=data_transforms)\n",
    "test_loader2 = DataLoader(test_dataset2, batch_size=batch_size, shuffle=False, pin_memory=False, num_workers=16)\n"
   ]
  },
  {
   "cell_type": "code",
   "execution_count": 5,
   "metadata": {},
   "outputs": [],
   "source": [
    "test_l1 = test_loader\n",
    "test_l2 = test_loader2"
   ]
  },
  {
   "cell_type": "code",
   "execution_count": 6,
   "metadata": {},
   "outputs": [],
   "source": [
    "best_result = {}\n",
    "final_result = {}\n",
    "loss_result = {}\n",
    "\n",
    "best_result = utility.read_pickle_files('./model_data/test_result/best_result.pkl')\n",
    "final_result = utility.read_pickle_files('./model_data/test_result/final_result.pkl')\n",
    "loss_result = utility.read_pickle_files('./model_data/test_result/loss_result.pkl')"
   ]
  },
  {
   "cell_type": "code",
   "execution_count": 7,
   "metadata": {},
   "outputs": [],
   "source": [
    "# sort_best_result = sorted(best_result.items(), key=lambda x:x[1], reverse=True)\n",
    "# print(sort_best_result[:3])\n",
    "# sort_final_result = sorted(final_result.items(), key=lambda x:x[1], reverse=True)\n",
    "# print(sort_final_result[:3])\n",
    "# sort_loss_result = sorted(loss_result.items(), key=lambda x:x[1], reverse=True)\n",
    "# print(sort_loss_result[:3])"
   ]
  },
  {
   "cell_type": "markdown",
   "metadata": {},
   "source": [
    "### Test Accuracy"
   ]
  },
  {
   "cell_type": "code",
   "execution_count": 13,
   "metadata": {},
   "outputs": [
    {
     "name": "stdout",
     "output_type": "stream",
     "text": [
      "{'angry': 0, 'disgust': 1, 'fear': 2, 'happy': 3, 'netural': 4, 'sad': 5, 'surprise': 6}\n"
     ]
    }
   ],
   "source": [
    "from models.new_models import custom_v7_2 as m\n",
    "test_name = 'v7_Adam_[RAF(aug12)]'\n",
    "\n",
    "model = m.EmotionCNN(num_classes=7, input_channel=channels)\n",
    "\n",
    "pth = './model_data/custom/v7.2_Adam_[RAF(AutoAug12x5),FER(AutoAug12x5)]_LR_WB(A)_[L2:0.01]/'\n",
    "pth_save_path = pth  + '/model.pth'\n",
    "save_place = './model_data/test_result/'\n",
    "\n",
    "# # # evaluate model\n",
    "# result = utility.model_validation(model, device, test_loader, pth_save_path, save_place, file_name='1', ext=False,show=False)\n",
    "# result = utility.model_validation(model, device, test_loader2, pth_save_path, save_place, file_name='2', ext=False,show=False)\n",
    "\n",
    "model.load_state_dict(torch.load(pth_save_path))\n",
    "model.to(device)\n",
    "model.eval()\n",
    "label = test_dataset1.class_to_idx\n",
    "print(label)\n",
    "label = ['angry', 'disgust', 'fear', 'happy', 'netural', 'sad', 'surprise']"
   ]
  },
  {
   "cell_type": "code",
   "execution_count": 26,
   "metadata": {},
   "outputs": [
    {
     "data": {
      "image/png": "[encoded data removed]",
      "text/plain": [
       "<PIL.JpegImagePlugin.JpegImageFile image mode=L size=48x48>"
      ]
     },
     "metadata": {},
     "output_type": "display_data"
    },
    {
     "name": "stdout",
     "output_type": "stream",
     "text": [
      "image is from ../dataset/test/angry/PrivateTest_1221822.jpg\n",
      "model predicts it as \"angry\"\n"
     ]
    }
   ],
   "source": [
    "from PIL import Image\n",
    "\n",
    "path = '../dataset/test/angry/PrivateTest_1221822.jpg'\n",
    "img = Image.open(path)\n",
    "img.show()\n",
    "img = data_transforms(img).unsqueeze(0).to(device)\n",
    "output = model(img)\n",
    "predicted = torch.argmax(output.data, 1)\n",
    "print(f'image is from {path}\\nmodel predicts it as \"{label[predicted]}\"')"
   ]
  },
  {
   "cell_type": "code",
   "execution_count": 10,
   "metadata": {},
   "outputs": [],
   "source": [
    "# utility.save_pickle_files(best_result, './model_data/test_result/best_result.pkl')\n",
    "# print(best_result)\n",
    "# utility.save_pickle_files(final_result, './model_data/test_result/final_result.pkl')\n",
    "# print(final_result)\n",
    "# utility.save_pickle_files(loss_result, './model_data/test_result/loss_result.pkl')\n",
    "# print(loss_result)"
   ]
  }
 ],
 "metadata": {
  "kernelspec": {
   "display_name": "Python 3",
   "language": "python",
   "name": "python3"
  },
  "language_info": {
   "codemirror_mode": {
    "name": "ipython",
    "version": 3
   },
   "file_extension": ".py",
   "mimetype": "text/x-python",
   "name": "python",
   "nbconvert_exporter": "python",
   "pygments_lexer": "ipython3",
   "version": "3.10.12"
  }
 },
 "nbformat": 4,
 "nbformat_minor": 5
}
