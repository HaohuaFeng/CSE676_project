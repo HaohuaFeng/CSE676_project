{
 "cells": [
  {
   "cell_type": "markdown",
   "metadata": {},
   "source": [
    "# import"
   ]
  },
  {
   "cell_type": "code",
   "execution_count": 1,
   "id": "aff6d85dd0096bd6",
   "metadata": {
    "ExecuteTime": {
     "end_time": "2023-10-24T19:54:13.834099Z",
     "start_time": "2023-10-24T19:54:13.826580400Z"
    },
    "collapsed": false
   },
   "outputs": [],
   "source": [
    "import torch\n",
    "import torch.nn as nn\n",
    "import torch.optim as optim\n",
    "from torchvision import datasets, transforms\n",
    "from torchvision.transforms import autoaugment, transforms\n",
    "from torch.utils.data import DataLoader, random_split, ConcatDataset, Subset\n",
    "from tqdm import tqdm\n",
    "import models.optimizer.optimizer as optimizer\n",
    "from torch.optim.lr_scheduler import ReduceLROnPlateau\n",
    "from helper.training_early_stop import EarlyStop\n",
    "import helper.utility as utility"
   ]
  },
  {
   "cell_type": "markdown",
   "metadata": {},
   "source": [
    "# select device"
   ]
  },
  {
   "cell_type": "code",
   "execution_count": 2,
   "id": "6faa84704020905c",
   "metadata": {
    "ExecuteTime": {
     "end_time": "2023-10-24T19:54:16.889559200Z",
     "start_time": "2023-10-24T19:54:16.855974900Z"
    },
    "collapsed": false
   },
   "outputs": [
    {
     "name": "stdout",
     "output_type": "stream",
     "text": [
      "using CUDA + cudnn\n"
     ]
    }
   ],
   "source": [
    "device = utility.select_devices(use_cudnn_if_avaliable=True)"
   ]
  },
  {
   "cell_type": "markdown",
   "id": "718fed71c402d1dc",
   "metadata": {
    "collapsed": false
   },
   "source": [
    "# Data Pre-processing"
   ]
  },
  {
   "cell_type": "markdown",
   "metadata": {},
   "source": [
    "### transformer parameter"
   ]
  },
  {
   "cell_type": "code",
   "execution_count": 3,
   "metadata": {},
   "outputs": [],
   "source": [
    "# Alex 227, VGG 224, ResNet 224, Unet 96\n",
    "size = (64, 64)\n",
    "batch_size = 16\n",
    "channels = 1\n",
    "\n",
    "data_transforms = transforms.Compose([\n",
    "    transforms.Grayscale(num_output_channels=channels), \n",
    "    transforms.Resize(size),\n",
    "    transforms.ToTensor()\n",
    "])"
   ]
  },
  {
   "cell_type": "markdown",
   "metadata": {},
   "source": [
    "### create dataloader"
   ]
  },
  {
   "cell_type": "markdown",
   "metadata": {},
   "source": [
    "#### dataloader 1 RAF-DB"
   ]
  },
  {
   "cell_type": "code",
   "execution_count": 4,
   "metadata": {},
   "outputs": [],
   "source": [
    "test_path = '../RAF-DB/test'\n",
    "test_dataset1 = datasets.ImageFolder(test_path, transform=data_transforms)\n",
    "test_loader = DataLoader(test_dataset1, batch_size=batch_size, shuffle=False, pin_memory=False, num_workers=16)"
   ]
  },
  {
   "cell_type": "code",
   "execution_count": 5,
   "metadata": {},
   "outputs": [],
   "source": [
    "test_l1 = test_loader\n",
    "test_l2 = test_loader\n",
    "test_l3 = test_loader"
   ]
  },
  {
   "cell_type": "code",
   "execution_count": 6,
   "metadata": {},
   "outputs": [],
   "source": [
    "best_result = {}\n",
    "final_result = {}\n",
    "loss_result = {}\n",
    "\n",
    "best_result = utility.read_pickle_files('./model_data/test_result/best_result.pkl')\n",
    "final_result = utility.read_pickle_files('./model_data/test_result/final_result.pkl')\n",
    "loss_result = utility.read_pickle_files('./model_data/test_result/loss_result.pkl')"
   ]
  },
  {
   "cell_type": "code",
   "execution_count": 11,
   "metadata": {},
   "outputs": [
    {
     "name": "stdout",
     "output_type": "stream",
     "text": [
      "{'custom_v0_Adam_[RAF(aug12)]': 0.7327249022164276, 'custom_v1_Adam_[RAF(aug12)]': 0.7434810951760105, 'custom_v2_Adam_[RAF(aug12)]': 0.7428292046936115, 'custom_v3_Adam_[RAF(aug12)]': 0.7884615384615384, 'custom_v4_Adam_[RAF(aug12)]': 0.7796610169491526, 'custom_v5_Adam_[RAF(aug12)]': 0.7865058670143416, 'custom_v6.1_Adam_[RAF(aug12)]': 0.8021512385919165, 'custom_v6_Adam_[RAF(aug12)]': 0.7940026075619296, 'custom_v7.2_Adam_[RAF(aug12)]': 0.8041069100391134, 'custom_v7_Adam_[RAF(aug12)]': 0.7969361147327249, 'dcnn_v0+_Adam_[RAF(aug12)]': 0.7676010430247718, 'dcnn_v0_Adam_[RAF(aug12)]': 0.7584745762711864, 'dcnn_v1_Adam_[RAF(aug12)]': 0.7627118644067796, 'dcnn_v2_Adam_[RAF(aug12)]': 0.7509778357235984, 'dcnn_v3+_Adam_[RAF(aug12)]': 0.7803129074315515, 'dcnn_v3_Adam_[RAF(aug12)]': 0.7780312907431551, 'dcnn_v4_Adam_[RAF(aug12)]': 0.7884615384615384, 'dcnn_v5_Adam_[RAF(aug12)]': 0.7985658409387223, 'dcnn_v6_Adam_[RAF(aug12)]': 0.8083441981747066, 'dcnn_v7_Adam_[RAF(aug12)]': 0.796284224250326}\n",
      "{'custom_v0_Adam_[RAF(aug12)]': 0.7467405475880052, 'custom_v1_Adam_[RAF(aug12)]': 0.7076271186440678, 'custom_v2_Adam_[RAF(aug12)]': 0.7170795306388527, 'custom_v3_Adam_[RAF(aug12)]': 0.7653194263363755, 'custom_v4_Adam_[RAF(aug12)]': 0.7597783572359843, 'custom_v5_Adam_[RAF(aug12)]': 0.7926988265971316, 'custom_v6_Adam_[RAF(aug12)]': 0.7992177314211213, 'custom_v6.1_Adam_[RAF(aug12)]': 0.7982398956975228, 'custom_v7_Adam_[RAF(aug12)]': 0.8034550195567145, 'custom_v7.2_Adam_[RAF(aug12)]': 0.803129074315515, 'dcnn_v0_Adam_[RAF(aug12)]': 0.7490221642764016, 'dcnn_v0+_Adam_[RAF(aug12)]': 0.7415254237288136, 'dcnn_v1_Adam_[RAF(aug12)]': 0.7467405475880052, 'dcnn_v2_Adam_[RAF(aug12)]': 0.7480443285528031, 'dcnn_v3_Adam_[RAF(aug12)]': 0.7669491525423728, 'dcnn_v3+_Adam_[RAF(aug12)]': 0.7780312907431551, 'dcnn_v4_Adam_[RAF(aug12)]': 0.7757496740547588, 'dcnn_v5_Adam_[RAF(aug12)]': 0.7979139504563233, 'dcnn_v6_Adam_[RAF(aug12)]': 0.7988917861799217, 'dcnn_v7_Adam_[RAF(aug12)]': 0.796284224250326}\n",
      "{'custom_v0_Adam_[RAF(aug12)]': 0.7327249022164276, 'custom_v1_Adam_[RAF(aug12)]': 0.7428292046936115, 'custom_v2_Adam_[RAF(aug12)]': 0.7174054758800521, 'custom_v3_Adam_[RAF(aug12)]': 0.7884615384615384, 'custom_v4_Adam_[RAF(aug12)]': 0.7796610169491526, 'custom_v5_Adam_[RAF(aug12)]': 0.780638852672751, 'custom_v6_Adam_[RAF(aug12)]': 0.78748370273794, 'custom_v6.1_Adam_[RAF(aug12)]': 0.7982398956975228, 'custom_v7_Adam_[RAF(aug12)]': 0.7969361147327249, 'custom_v7.2_Adam_[RAF(aug12)]': 0.7992177314211213, 'dcnn_v0_Adam_[RAF(aug12)]': 0.7421773142112125, 'dcnn_v0+_Adam_[RAF(aug12)]': 0.7389178617992177, 'dcnn_v1_Adam_[RAF(aug12)]': 0.7232724902216427, 'dcnn_v2_Adam_[RAF(aug12)]': 0.7434810951760105, 'dcnn_v3_Adam_[RAF(aug12)]': 0.7470664928292047, 'dcnn_v3+_Adam_[RAF(aug12)]': 0.7679269882659713, 'dcnn_v4_Adam_[RAF(aug12)]': 0.7431551499348109, 'dcnn_v5_Adam_[RAF(aug12)]': 0.7940026075619296, 'dcnn_v6_Adam_[RAF(aug12)]': 0.7835723598435462, 'dcnn_v7_Adam_[RAF(aug12)]': 0.78748370273794}\n"
     ]
    }
   ],
   "source": [
    "print(best_result)\n",
    "print(final_result)\n",
    "print(loss_result)"
   ]
  },
  {
   "cell_type": "markdown",
   "metadata": {},
   "source": [
    "### Test Accuracy"
   ]
  },
  {
   "cell_type": "code",
   "execution_count": 8,
   "metadata": {},
   "outputs": [
    {
     "name": "stdout",
     "output_type": "stream",
     "text": [
      "==========================================================================================\n",
      "Layer (type:depth-idx)                   Output Shape              Param #\n",
      "==========================================================================================\n",
      "├─Conv2d: 1-1                            [-1, 32, 64, 64]          320\n",
      "├─BatchNorm2d: 1-2                       [-1, 32, 64, 64]          64\n",
      "├─ReLU: 1-3                              [-1, 32, 64, 64]          --\n",
      "├─Conv2d: 1-4                            [-1, 64, 64, 64]          18,496\n",
      "├─BatchNorm2d: 1-5                       [-1, 64, 64, 64]          128\n",
      "├─Conv2d: 1-6                            [-1, 64, 64, 64]          640\n",
      "├─BatchNorm2d: 1-7                       [-1, 64, 64, 64]          128\n",
      "├─ReLU: 1-8                              [-1, 64, 64, 64]          --\n",
      "├─MaxPool2d: 1-9                         [-1, 64, 32, 32]          --\n",
      "├─Dropout: 1-10                          [-1, 64, 32, 32]          --\n",
      "├─Conv2d: 1-11                           [-1, 64, 32, 32]          36,928\n",
      "├─BatchNorm2d: 1-12                      [-1, 64, 32, 32]          128\n",
      "├─ReLU: 1-13                             [-1, 64, 32, 32]          --\n",
      "├─Conv2d: 1-14                           [-1, 64, 32, 32]          36,928\n",
      "├─BatchNorm2d: 1-15                      [-1, 64, 32, 32]          128\n",
      "├─ReLU: 1-16                             [-1, 64, 32, 32]          --\n",
      "├─Conv2d: 1-17                           [-1, 128, 32, 32]         73,856\n",
      "├─BatchNorm2d: 1-18                      [-1, 128, 32, 32]         256\n",
      "├─Conv2d: 1-19                           [-1, 128, 32, 32]         73,856\n",
      "├─BatchNorm2d: 1-20                      [-1, 128, 32, 32]         256\n",
      "├─ReLU: 1-21                             [-1, 128, 32, 32]         --\n",
      "├─MaxPool2d: 1-22                        [-1, 128, 16, 16]         --\n",
      "├─Conv2d: 1-23                           [-1, 128, 16, 16]         147,584\n",
      "├─BatchNorm2d: 1-24                      [-1, 128, 16, 16]         256\n",
      "├─ReLU: 1-25                             [-1, 128, 16, 16]         --\n",
      "├─Conv2d: 1-26                           [-1, 256, 16, 16]         295,168\n",
      "├─BatchNorm2d: 1-27                      [-1, 256, 16, 16]         512\n",
      "├─Conv2d: 1-28                           [-1, 256, 16, 16]         295,168\n",
      "├─BatchNorm2d: 1-29                      [-1, 256, 16, 16]         512\n",
      "├─ReLU: 1-30                             [-1, 256, 16, 16]         --\n",
      "├─MaxPool2d: 1-31                        [-1, 256, 8, 8]           --\n",
      "├─Dropout: 1-32                          [-1, 256, 8, 8]           --\n",
      "├─Conv2d: 1-33                           [-1, 512, 8, 8]           1,180,160\n",
      "├─BatchNorm2d: 1-34                      [-1, 512, 8, 8]           1,024\n",
      "├─ReLU: 1-35                             [-1, 512, 8, 8]           --\n",
      "├─Conv2d: 1-36                           [-1, 512, 8, 8]           2,359,808\n",
      "├─BatchNorm2d: 1-37                      [-1, 512, 8, 8]           1,024\n",
      "├─Conv2d: 1-38                           [-1, 512, 8, 8]           1,180,160\n",
      "├─BatchNorm2d: 1-39                      [-1, 512, 8, 8]           1,024\n",
      "├─ReLU: 1-40                             [-1, 512, 8, 8]           --\n",
      "├─MaxPool2d: 1-41                        [-1, 512, 4, 4]           --\n",
      "├─Dropout: 1-42                          [-1, 512, 4, 4]           --\n",
      "├─AttentionModule: 1-43                  [-1, 512, 4, 4]           --\n",
      "|    └─Sequential: 2-1                   [-1, 1, 4, 4]             --\n",
      "|    |    └─Conv2d: 3-1                  [-1, 512, 4, 4]           2,359,808\n",
      "|    |    └─ReLU: 3-2                    [-1, 512, 4, 4]           --\n",
      "|    |    └─Conv2d: 3-3                  [-1, 512, 4, 4]           2,359,808\n",
      "|    |    └─ReLU: 3-4                    [-1, 512, 4, 4]           --\n",
      "|    |    └─Conv2d: 3-5                  [-1, 1, 4, 4]             513\n",
      "|    |    └─Sigmoid: 3-6                 [-1, 1, 4, 4]             --\n",
      "├─ReLU: 1-44                             [-1, 512, 4, 4]           --\n",
      "├─multi_head_attention: 1-45             [-1, 512, 4, 4]           --\n",
      "|    └─MultiheadAttention: 2-2           [-1, 2, 512]              --\n",
      "├─Conv2d: 1-46                           [-1, 512, 4, 4]           2,359,808\n",
      "├─BatchNorm2d: 1-47                      [-1, 512, 4, 4]           1,024\n",
      "├─ReLU: 1-48                             [-1, 512, 4, 4]           --\n",
      "├─Dropout: 1-49                          [-1, 512, 4, 4]           --\n",
      "├─AdaptiveAvgPool2d: 1-50                [-1, 512, 2, 2]           --\n",
      "├─Sequential: 1-51                       [-1, 7]                   --\n",
      "|    └─Linear: 2-3                       [-1, 256]                 524,544\n",
      "|    └─ReLU: 2-4                         [-1, 256]                 --\n",
      "|    └─Dropout: 2-5                      [-1, 256]                 --\n",
      "|    └─Linear: 2-6                       [-1, 256]                 65,792\n",
      "|    └─ReLU: 2-7                         [-1, 256]                 --\n",
      "|    └─Dropout: 2-8                      [-1, 256]                 --\n",
      "|    └─Linear: 2-9                       [-1, 7]                   1,799\n",
      "==========================================================================================\n",
      "Total params: 13,377,608\n",
      "Trainable params: 13,377,608\n",
      "Non-trainable params: 0\n",
      "Total mult-adds (M): 922.24\n",
      "==========================================================================================\n",
      "Input size (MB): 0.02\n",
      "Forward/backward pass size (MB): 20.25\n",
      "Params size (MB): 51.03\n",
      "Estimated Total Size (MB): 71.30\n",
      "==========================================================================================\n"
     ]
    }
   ],
   "source": [
    "from models.new_models import DCNN_v7 as m\n",
    "test_name = 'v7_Adam_[RAF(aug12)]'\n",
    "\n",
    "key_name = 'dcnn_'+test_name\n",
    "\n",
    "model = m.EmotionCNN(num_classes=7, input_channel=channels)\n",
    "\n",
    "pth = './model_data/DCNN/'\n",
    "pth_save_path = pth + test_name + '/model.pth'\n",
    "pth_manual_save_path = pth + test_name + '/manual_save_model.pth'\n",
    "pth_save_path_loss = pth + test_name + '/best_loss_model.pth'\n",
    "save_place = './model_data/test_result/'\n",
    "\n",
    "# # evaluate model\n",
    "# result = utility.model_validation(model, device, test_l1, pth_save_path, save_place, file_name='1', ext=False,show=False)\n",
    "# best_result[key_name] = result\n",
    "# result = utility.model_validation(model, device, test_l2, pth_manual_save_path, save_place, file_name='2', ext=False,show=False)\n",
    "# final_result[key_name] = result\n",
    "# result = utility.model_validation(model, device, test_l3, pth_save_path_loss, save_place, file_name='3', ext=False,show=False)\n",
    "# loss_result[key_name] = result"
   ]
  },
  {
   "cell_type": "code",
   "execution_count": 9,
   "metadata": {},
   "outputs": [],
   "source": [
    "# utility.save_pickle_files(best_result, './model_data/test_result/best_result.pkl')\n",
    "# print(best_result)\n",
    "# utility.save_pickle_files(final_result, './model_data/test_result/final_result.pkl')\n",
    "# print(final_result)\n",
    "# utility.save_pickle_files(loss_result, './model_data/test_result/loss_result.pkl')\n",
    "# print(loss_result)"
   ]
  }
 ],
 "metadata": {
  "kernelspec": {
   "display_name": "Python 3",
   "language": "python",
   "name": "python3"
  },
  "language_info": {
   "codemirror_mode": {
    "name": "ipython",
    "version": 3
   },
   "file_extension": ".py",
   "mimetype": "text/x-python",
   "name": "python",
   "nbconvert_exporter": "python",
   "pygments_lexer": "ipython3",
   "version": "3.10.12"
  }
 },
 "nbformat": 4,
 "nbformat_minor": 5
}
